{
 "cells": [
  {
   "cell_type": "code",
   "execution_count": 1,
   "metadata": {},
   "outputs": [],
   "source": [
    "import torch\n",
    "import torch.nn as nn\n",
    "import torch.nn.functional as F\n",
    "from torchvision.utils import make_grid\n",
    "from torch.utils.data import DataLoader\n",
    "from torchvision import datasets, transforms"
   ]
  },
  {
   "cell_type": "code",
   "execution_count": 2,
   "metadata": {},
   "outputs": [],
   "source": [
    "transform = transforms.ToTensor()"
   ]
  },
  {
   "cell_type": "code",
   "execution_count": 3,
   "metadata": {},
   "outputs": [],
   "source": [
    "train_data = datasets.MNIST(root='../PYTORCH_NOTEBOOKS/Data', train = True, download = True, transform = transform)"
   ]
  },
  {
   "cell_type": "code",
   "execution_count": 4,
   "metadata": {},
   "outputs": [],
   "source": [
    "test_data = datasets.MNIST(root='../PYTORCH_NOTEBOOKS/Data', train = False, download = True, transform = transform)"
   ]
  },
  {
   "cell_type": "code",
   "execution_count": 5,
   "metadata": {},
   "outputs": [
    {
     "data": {
      "text/plain": [
       "Dataset MNIST\n",
       "    Number of datapoints: 60000\n",
       "    Root location: ../PYTORCH_NOTEBOOKS/Data\n",
       "    Split: Train\n",
       "    StandardTransform\n",
       "Transform: ToTensor()"
      ]
     },
     "execution_count": 5,
     "metadata": {},
     "output_type": "execute_result"
    }
   ],
   "source": [
    "train_data"
   ]
  },
  {
   "cell_type": "code",
   "execution_count": 6,
   "metadata": {},
   "outputs": [
    {
     "data": {
      "text/plain": [
       "Dataset MNIST\n",
       "    Number of datapoints: 10000\n",
       "    Root location: ../PYTORCH_NOTEBOOKS/Data\n",
       "    Split: Test\n",
       "    StandardTransform\n",
       "Transform: ToTensor()"
      ]
     },
     "execution_count": 6,
     "metadata": {},
     "output_type": "execute_result"
    }
   ],
   "source": [
    "test_data"
   ]
  },
  {
   "cell_type": "code",
   "execution_count": 7,
   "metadata": {},
   "outputs": [],
   "source": [
    "train_loader = DataLoader(train_data, batch_size=100, shuffle=True)"
   ]
  },
  {
   "cell_type": "code",
   "execution_count": 8,
   "metadata": {},
   "outputs": [],
   "source": [
    "test_loader = DataLoader(test_data, batch_size = 500, shuffle=False)"
   ]
  },
  {
   "cell_type": "code",
   "execution_count": 9,
   "metadata": {},
   "outputs": [],
   "source": [
    "for images,labels in train_loader:\n",
    "    break"
   ]
  },
  {
   "cell_type": "code",
   "execution_count": 10,
   "metadata": {},
   "outputs": [
    {
     "data": {
      "text/plain": [
       "torch.Size([100])"
      ]
     },
     "execution_count": 10,
     "metadata": {},
     "output_type": "execute_result"
    }
   ],
   "source": [
    "labels.shape"
   ]
  },
  {
   "cell_type": "code",
   "execution_count": 11,
   "metadata": {},
   "outputs": [],
   "source": [
    "import matplotlib.pyplot as plt\n",
    "import numpy as np"
   ]
  },
  {
   "cell_type": "code",
   "execution_count": 12,
   "metadata": {},
   "outputs": [
    {
     "name": "stdout",
     "output_type": "stream",
     "text": [
      "labels: [2 9 6 5 7 6 8 6 1 5]\n"
     ]
    },
    {
     "data": {
      "text/plain": [
       "<matplotlib.image.AxesImage at 0x2d7c72b6b88>"
      ]
     },
     "execution_count": 12,
     "metadata": {},
     "output_type": "execute_result"
    },
    {
     "data": {
      "image/png": "[encoded data removed]",
      "text/plain": [
       "<Figure size 432x288 with 1 Axes>"
      ]
     },
     "metadata": {
      "needs_background": "light"
     },
     "output_type": "display_data"
    }
   ],
   "source": [
    "print(\"labels:\", labels[:10].numpy())\n",
    "\n",
    "im = make_grid(images[:10], nrow=10)\n",
    "plt.imshow(np.transpose(im.numpy(), (1,2,0)))"
   ]
  },
  {
   "cell_type": "code",
   "execution_count": 24,
   "metadata": {},
   "outputs": [],
   "source": [
    "class CNNmnist(nn.Module):\n",
    "    def __init__(self,in_sz,out_sz,layers):\n",
    "        super().__init__()\n",
    "        self.conv1 = nn.Conv2d(1,6,3,1)  #-->color channel-->no_of filters-->image karnel-->stride\n",
    "        self.conv2 = nn.Conv2d(6,16,3,1) #-->input from conv1-->no_of filters-->image karnel-->stride\n",
    "        self.fc1 = nn.Linear(in_sz,layers[0])\n",
    "        self.fc2 = nn.Linear(layers[0],layers[1])\n",
    "        self.fc3 = nn.Linear(layers[1],out_sz)\n",
    "        \n",
    "    def forward(self,x):\n",
    "        x = F.relu(self.conv1(x))\n",
    "        x = F.max_pool2d(x,2,2)\n",
    "        x = F.relu(self.conv2(x))\n",
    "        x = F.max_pool2d(x,2,2)\n",
    "        x = x.view(-1,16*5*5) #flatten out the data---> 16(input feature) * (((28-2)/2)-2)/2((image-karnel)pixel size after pooling)\n",
    "        x = F.relu(self.fc1(x))\n",
    "        x = F.relu(self.fc2(x))\n",
    "        x = self.fc3(x)\n",
    "        \n",
    "        return F.log_softmax(x,dim=1)"
   ]
  },
  {
   "cell_type": "code",
   "execution_count": 25,
   "metadata": {},
   "outputs": [],
   "source": [
    "torch.manual_seed(42)\n",
    "model = CNNmnist(in_sz=16*5*5,out_sz=10,layers=[120,84])"
   ]
  },
  {
   "cell_type": "code",
   "execution_count": 26,
   "metadata": {},
   "outputs": [
    {
     "data": {
      "text/plain": [
       "CNNmnist(\n",
       "  (conv1): Conv2d(1, 6, kernel_size=(3, 3), stride=(1, 1))\n",
       "  (conv2): Conv2d(6, 16, kernel_size=(3, 3), stride=(1, 1))\n",
       "  (fc1): Linear(in_features=400, out_features=120, bias=True)\n",
       "  (fc2): Linear(in_features=120, out_features=84, bias=True)\n",
       "  (fc3): Linear(in_features=84, out_features=10, bias=True)\n",
       ")"
      ]
     },
     "execution_count": 26,
     "metadata": {},
     "output_type": "execute_result"
    }
   ],
   "source": [
    "model"
   ]
  },
  {
   "cell_type": "code",
   "execution_count": 27,
   "metadata": {},
   "outputs": [
    {
     "name": "stdout",
     "output_type": "stream",
     "text": [
      "54\n",
      "6\n",
      "864\n",
      "16\n",
      "48000\n",
      "120\n",
      "10080\n",
      "84\n",
      "840\n",
      "10\n"
     ]
    }
   ],
   "source": [
    "for param in model.parameters():\n",
    "    print(param.numel())"
   ]
  },
  {
   "cell_type": "code",
   "execution_count": 28,
   "metadata": {},
   "outputs": [],
   "source": [
    "lost_function = nn.CrossEntropyLoss()\n",
    "optimizer = torch.optim.Adam(model.parameters(), lr=0.001)"
   ]
  },
  {
   "cell_type": "code",
   "execution_count": 29,
   "metadata": {},
   "outputs": [
    {
     "name": "stdout",
     "output_type": "stream",
     "text": [
      "epochs:0 batch:200 loss:0.4877311587333679 accuracy:76.465\n",
      "epochs:0 batch:400 loss:0.23414082825183868 accuracy:84.27\n",
      "epochs:0 batch:600 loss:0.20488505065441132 accuracy:87.79666666666667\n",
      "epochs:1 batch:200 loss:0.08856142312288284 accuracy:95.76\n",
      "epochs:1 batch:400 loss:0.10095831751823425 accuracy:96.245\n",
      "epochs:1 batch:600 loss:0.01958644762635231 accuracy:96.46333333333334\n",
      "epochs:2 batch:200 loss:0.03228691965341568 accuracy:97.305\n",
      "epochs:2 batch:400 loss:0.033680789172649384 accuracy:97.4275\n",
      "epochs:2 batch:600 loss:0.016389384865760803 accuracy:97.605\n",
      "epochs:3 batch:200 loss:0.0803612545132637 accuracy:98.055\n",
      "epochs:3 batch:400 loss:0.021365361288189888 accuracy:98.01\n",
      "epochs:3 batch:600 loss:0.11589983105659485 accuracy:98.12833333333333\n",
      "epochs:4 batch:200 loss:0.03189205750823021 accuracy:98.335\n",
      "epochs:4 batch:400 loss:0.057859212160110474 accuracy:98.3975\n",
      "epochs:4 batch:600 loss:0.012299677357077599 accuracy:98.43\n",
      "Duration: 3.6342819730440774 mins\n"
     ]
    }
   ],
   "source": [
    "import time \n",
    "start_time = time.time()\n",
    "\n",
    "train_loss = []\n",
    "test_loss = []\n",
    "train_correct = []\n",
    "test_correct = []\n",
    "\n",
    "epochs = 5\n",
    "for i in range(epochs):\n",
    "    \n",
    "    trn_corr = 0\n",
    "    test_corr = 0\n",
    "    \n",
    "    for b,(X_train,y_train) in enumerate(train_loader):\n",
    "        b+=1\n",
    "        y_pred = model(X_train)\n",
    "        loss = lost_function(y_pred, y_train)\n",
    "        \n",
    "        predicted = torch.max(y_pred.data,axis = 1)[1]\n",
    "        batch_corr = (predicted==y_train).sum()\n",
    "        trn_corr += batch_corr\n",
    "        \n",
    "        optimizer.zero_grad()\n",
    "        loss.backward()\n",
    "        optimizer.step()\n",
    "        \n",
    "        if b%200==0:\n",
    "            accuracy = trn_corr.item()/b\n",
    "            print(f'epochs:{i} batch:{b} loss:{loss.item()} accuracy:{accuracy}')\n",
    "            \n",
    "    train_loss.append(loss)\n",
    "    train_correct.append(trn_corr)\n",
    "    \n",
    "    #validation part:\n",
    "    with torch.no_grad():\n",
    "        for b,(X_test,y_test) in enumerate(test_loader):\n",
    "            y_val = model(X_test)\n",
    "            \n",
    "            predicted = torch.max(y_val.data,axis = 1)[1]\n",
    "            batch_corr = (predicted==y_test).sum()\n",
    "            test_corr += batch_corr\n",
    "            \n",
    "    loss1 = lost_function(y_val, y_test)\n",
    "    test_loss.append(loss1)\n",
    "    test_correct.append(test_corr)\n",
    "\n",
    "total_time = time.time() - start_time\n",
    "print(f\"Duration: {total_time/60} mins\")"
   ]
  },
  {
   "cell_type": "code",
   "execution_count": 30,
   "metadata": {},
   "outputs": [
    {
     "data": {
      "text/plain": [
       "<matplotlib.legend.Legend at 0x2d7c869c948>"
      ]
     },
     "execution_count": 30,
     "metadata": {},
     "output_type": "execute_result"
    },
    {
     "data": {
      "image/png": "[encoded data removed]",
      "text/plain": [
       "<Figure size 432x288 with 1 Axes>"
      ]
     },
     "metadata": {
      "needs_background": "light"
     },
     "output_type": "display_data"
    }
   ],
   "source": [
    "plt.plot(train_loss, label='training loss')\n",
    "plt.plot(test_loss, label='validation loss')\n",
    "plt.title('loss at epochs')\n",
    "plt.legend()"
   ]
  },
  {
   "cell_type": "code",
   "execution_count": 32,
   "metadata": {},
   "outputs": [],
   "source": [
    "train_acc = [training_data/600 for training_data in train_correct]\n",
    "test_acc = [testing_data/100 for testing_data in test_correct]"
   ]
  },
  {
   "cell_type": "code",
   "execution_count": 33,
   "metadata": {},
   "outputs": [
    {
     "data": {
      "text/plain": [
       "<matplotlib.legend.Legend at 0x2d7c8994ac8>"
      ]
     },
     "execution_count": 33,
     "metadata": {},
     "output_type": "execute_result"
    },
    {
     "data": {
      "image/png": "[encoded data removed]",
      "text/plain": [
       "<Figure size 432x288 with 1 Axes>"
      ]
     },
     "metadata": {
      "needs_background": "light"
     },
     "output_type": "display_data"
    }
   ],
   "source": [
    "plt.plot(train_acc,label='training_acc')\n",
    "plt.plot(test_acc,label='test_acc')\n",
    "plt.legend()"
   ]
  },
  {
   "cell_type": "code",
   "execution_count": 34,
   "metadata": {},
   "outputs": [],
   "source": [
    "test_load_all = DataLoader(test_data,batch_size=10000,shuffle=True)"
   ]
  },
  {
   "cell_type": "code",
   "execution_count": 35,
   "metadata": {},
   "outputs": [],
   "source": [
    "with torch.no_grad():\n",
    "    correct = 0\n",
    "    for X_test,y_test in test_load_all:\n",
    "        y_val = model(X_test)\n",
    "        predicted = torch.max(y_val,1)[1]\n",
    "        correct += (predicted==y_test).sum()"
   ]
  },
  {
   "cell_type": "code",
   "execution_count": 36,
   "metadata": {},
   "outputs": [
    {
     "data": {
      "text/plain": [
       "9841"
      ]
     },
     "execution_count": 36,
     "metadata": {},
     "output_type": "execute_result"
    }
   ],
   "source": [
    "correct.item()"
   ]
  },
  {
   "cell_type": "code",
   "execution_count": 37,
   "metadata": {},
   "outputs": [],
   "source": [
    "from sklearn.metrics import confusion_matrix"
   ]
  },
  {
   "cell_type": "code",
   "execution_count": 38,
   "metadata": {},
   "outputs": [
    {
     "name": "stdout",
     "output_type": "stream",
     "text": [
      "[[ 975    0    3    0    1    2    7    0    7    1]\n",
      " [   0 1133    6    0    0    1    2    3    0    2]\n",
      " [   1    0 1012    1    0    0    0    9    3    2]\n",
      " [   0    0    3 1004    0   11    0    5   13    2]\n",
      " [   0    0    1    0  967    0    3    0    2    4]\n",
      " [   1    0    0    2    0  873    4    0    4    1]\n",
      " [   1    1    0    0    2    2  942    0    0    0]\n",
      " [   1    0    4    1    1    1    0 1005    2    3]\n",
      " [   0    1    3    1    1    0    0    1  937    1]\n",
      " [   1    0    0    1   10    2    0    5    6  993]]\n"
     ]
    }
   ],
   "source": [
    "print(confusion_matrix(predicted.view(-1),y_test.view(-1)))"
   ]
  },
  {
   "cell_type": "code",
   "execution_count": 39,
   "metadata": {},
   "outputs": [],
   "source": [
    "data = test_data[2019][0].reshape(28,28)"
   ]
  },
  {
   "cell_type": "code",
   "execution_count": 48,
   "metadata": {},
   "outputs": [
    {
     "data": {
      "text/plain": [
       "<matplotlib.image.AxesImage at 0x2d7d8bd2d08>"
      ]
     },
     "execution_count": 48,
     "metadata": {},
     "output_type": "execute_result"
    },
    {
     "data": {
      "image/png": "[encoded data removed]",
      "text/plain": [
       "<Figure size 432x288 with 1 Axes>"
      ]
     },
     "metadata": {
      "needs_background": "light"
     },
     "output_type": "display_data"
    }
   ],
   "source": [
    "plt.imshow(data, cmap='gray')"
   ]
  },
  {
   "cell_type": "code",
   "execution_count": 42,
   "metadata": {},
   "outputs": [],
   "source": [
    "model.eval()\n",
    "with torch.no_grad():\n",
    "    new_pred = model(data.view(1,1,28,28))"
   ]
  },
  {
   "cell_type": "code",
   "execution_count": 43,
   "metadata": {},
   "outputs": [
    {
     "data": {
      "text/plain": [
       "tensor(9)"
      ]
     },
     "execution_count": 43,
     "metadata": {},
     "output_type": "execute_result"
    }
   ],
   "source": [
    "new_pred.argmax()"
   ]
  },
  {
   "cell_type": "code",
   "execution_count": null,
   "metadata": {},
   "outputs": [],
   "source": []
  }
 ],
 "metadata": {
  "kernelspec": {
   "display_name": "Python 3",
   "language": "python",
   "name": "python3"
  },
  "language_info": {
   "codemirror_mode": {
    "name": "ipython",
    "version": 3
   },
   "file_extension": ".py",
   "mimetype": "text/x-python",
   "name": "python",
   "nbconvert_exporter": "python",
   "pygments_lexer": "ipython3",
   "version": "3.7.6"
  }
 },
 "nbformat": 4,
 "nbformat_minor": 4
}
